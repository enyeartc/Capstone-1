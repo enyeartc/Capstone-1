{
 "cells": [
  {
   "cell_type": "code",
   "execution_count": 1,
   "metadata": {},
   "outputs": [],
   "source": [
    "import pandas as pd\n",
    "import numpy as np"
   ]
  },
  {
   "cell_type": "code",
   "execution_count": 3,
   "metadata": {},
   "outputs": [],
   "source": [
    "df = pd.read_csv('PIRUS.csv')"
   ]
  },
  {
   "cell_type": "code",
   "execution_count": 36,
   "metadata": {},
   "outputs": [
    {
     "name": "stdout",
     "output_type": "stream",
     "text": [
      "Management and Identification Variables \n",
      " Index(['Subject_ID'], dtype='object') \n",
      "\n",
      "Plot and Consequences \n",
      " Index(['Loc_Plot_State1', 'Loc_Plot_City1', 'Loc_Plot_State2',\n",
      "       'Loc_Plot_City2', 'Date_Exposure', 'Plot_Target1', 'Plot_Target2',\n",
      "       'Plot_Target3', 'Attack_Preparation', 'Op_Security', 'Changing_Target',\n",
      "       'Anticp_Fatals_Targ', 'Internet_Use_Plot', 'Extent_Plot', 'Violent',\n",
      "       'Criminal_Severity', 'Criminal_Charges', 'Indict_Arrest',\n",
      "       'Current_Status'],\n",
      "      dtype='object') \n",
      "\n",
      "Group Nature \n",
      " Index(['Group_Membership', 'Terrorist_Group_Name1', 'Terrorist_Group_Name2',\n",
      "       'Terrorist_Group_Name3', 'Actively_Recruited', 'Recruiter1',\n",
      "       'Recruiter2', 'Recruiter3', 'Actively_Connect', 'Group_Competition',\n",
      "       'Role_Group', 'Length_Group', 'Clique', 'Clique_Radicalize',\n",
      "       'Clique_Connect'],\n",
      "      dtype='object') \n",
      "\n",
      "Radicalization \n",
      " Index(['Internet_Radicalization', 'Media_Radicalization', 'Social_Media',\n",
      "       'Social_Media_Frequency', 'Social_Media_Platform1',\n",
      "       'Social_Media_Platform2', 'Social_Media_Platform3',\n",
      "       'Social_Media_Activities1', 'Social_Media_Activities2',\n",
      "       'Social_Media_Activities3', 'Social_Media_Activities4',\n",
      "       'Social_Media_Activities5', 'Social_Media_Activities6',\n",
      "       'Social_Media_Activities7', 'Radicalization_Islamist',\n",
      "       'Radicalization_Far_Right', 'Radicalization_Far_Left',\n",
      "       'Radicalization_Single_Issue', 'Ideological_Sub_Category1',\n",
      "       'Ideological_Sub_Category2', 'Ideological_Sub_Category3',\n",
      "       'Loc_Habitation_State1', 'Loc_Habitation_City1',\n",
      "       'Loc_Habitation_State2', 'Loc_Habitation_City2', 'Itinerant',\n",
      "       'External_Rad', 'Rad_duration', 'Radical_Behaviors', 'Radical_Beliefs',\n",
      "       'US_Govt_Leader', 'Foreign_Govt_Leader', 'Event_Influence1',\n",
      "       'Event_Influence2', 'Event_Influence3', 'Event_Influence4',\n",
      "       'Beliefs_Trajectory', 'Behaviors_Trajectory', 'Radicalization_Sequence',\n",
      "       'Radicalization_Place', 'Prison_Radicalize'],\n",
      "      dtype='object') \n",
      "\n",
      "Demographics \n",
      " Index(['Broad_Ethnicity', 'Age', 'Marital_Status', 'Children', 'Age_Child',\n",
      "       'Gender', 'Religious_Background', 'Convert', 'Convert_Date',\n",
      "       'Reawakening', 'Reawakening_Date', 'Citizenship', 'Residency_Status',\n",
      "       'Nativity', 'Time_US_Months', 'Immigrant_Generation',\n",
      "       'Immigrant_Source', 'Language_English', 'Diaspora_Ties'],\n",
      "      dtype='object') \n",
      "\n",
      "Socioeconomic Status \n",
      " Index(['Education', 'Student', 'Education_Change', 'Employment_Status',\n",
      "       'Change_Performance', 'Work_History', 'Military', 'Foreign_Military',\n",
      "       'Social_Stratum_Childhood', 'Social_Stratum_Adulthood', 'Aspirations'],\n",
      "      dtype='object') \n",
      "\n",
      "Personal \n",
      " Index(['Abuse_Child', 'Abuse_Adult', 'Abuse_type1', 'Abuse_Type2',\n",
      "       'Abuse_Type3', 'Psychological', 'Alcohol_Drug', 'Absent_Parent',\n",
      "       'Overseas_Family', 'Close_Family', 'Family_Religiosity',\n",
      "       'Family_Ideology', 'Family_Ideological_Level', 'Prison_Family_Friend',\n",
      "       'Crime_Family_Friend', 'Radical_Friend', 'Radical_Family',\n",
      "       'Radical_Signif_Other', 'Relationship_Troubles', 'Platonic_Troubles',\n",
      "       'Unstructured_Time', 'Friendship_Source1', 'Friendship_Source2',\n",
      "       'Friendship_Source3', 'Kicked_Out', 'Previous_Criminal_Activity',\n",
      "       'Previous_Criminal_Activity_Type1', 'Previous_Criminal_Activity_Type2',\n",
      "       'Previous_Criminal_Activity_Type3', 'Previous_Criminal_Activity_Age',\n",
      "       'Gang', 'Gang_Ideology', 'Gang_Age_Joined', 'Gang_Radicalize', 'Trauma',\n",
      "       'Other_Ideologies', 'Angry_US', 'Group_Grievance', 'Standing'],\n",
      "      dtype='object') \n",
      "\n"
     ]
    }
   ],
   "source": [
    "cols = ['Subject_ID','Current_Status','Clique_Connect','Prison_Radicalize','Diaspora_Ties','Aspirations','Standing']\n",
    "lst = [df.columns.get_loc(col) for col in columns]\n",
    "catagories = ['Management and Identification Variables','Plot and Consequences', 'Group Nature', 'Radicalization', \\\n",
    "              'Demographics', 'Socioeconomic Status', 'Personal']\n",
    "start = 0\n",
    "for chunk,name in zip(lst,catagories):\n",
    "    col = df.iloc[:,start:chunk+1].columns\n",
    "    start = chunk + 1\n",
    "    print(name,'\\n',col,'\\n')"
   ]
  },
  {
   "cell_type": "code",
   "execution_count": 37,
   "metadata": {},
   "outputs": [
    {
     "data": {
      "text/plain": [
       "array([1, 0], dtype=int64)"
      ]
     },
     "execution_count": 37,
     "metadata": {},
     "output_type": "execute_result"
    }
   ],
   "source": [
    "df.Violent.unique()"
   ]
  },
  {
   "cell_type": "code",
   "execution_count": 42,
   "metadata": {},
   "outputs": [
    {
     "data": {
      "text/plain": [
       "array(['Illinois', 'Afghanistan', 'California', 'New York', 'Virginia',\n",
       "       'Ohio', 'Georgia', 'Florida', 'New Jersey', 'Texas', 'Pakistan',\n",
       "       'Washington', 'Oregon', 'Arizona', 'Massachusetts', 'Somalia',\n",
       "       'Maryland', 'Michigan', 'Minnesota', 'North Carolina',\n",
       "       'Pennsylvania', 'District of Columbia', 'Colorado', 'Arkansas',\n",
       "       'Alaska', 'Alabama', 'Wyoming', 'Missouri', '-99', 'Wisconsin',\n",
       "       'Utah', 'Montana', 'Tennessee', 'Oklahoma', 'Kansas',\n",
       "       'New Hampshire', 'Louisiana', 'North Dakota', 'Vermont',\n",
       "       'Mississippi', 'Indiana', 'Delaware', 'Kentucky', 'Nevada', 'Iowa',\n",
       "       'West Virginia', 'South Carolina', 'Idaho', 'Nebraska', 'Mexico',\n",
       "       'Connecticut', 'New Mexico', 'Canada', 'South Dakota', 'Maine',\n",
       "       'Germany', 'Puerto Rico', 'Dominica', 'Libya', 'Iraq', 'Egypt',\n",
       "       'Kenya', 'Rhode Island', 'Syria', 'Tunisia'], dtype=object)"
      ]
     },
     "execution_count": 42,
     "metadata": {},
     "output_type": "execute_result"
    }
   ],
   "source": [
    "df.Loc_Plot_State1.unique()"
   ]
  },
  {
   "cell_type": "code",
   "execution_count": 44,
   "metadata": {},
   "outputs": [
    {
     "data": {
      "text/plain": [
       "array([  1,   2,   5,   4,   3, -99], dtype=int64)"
      ]
     },
     "execution_count": 44,
     "metadata": {},
     "output_type": "execute_result"
    }
   ],
   "source": [
    "df.Residency_Status.unique()"
   ]
  },
  {
   "cell_type": "code",
   "execution_count": null,
   "metadata": {},
   "outputs": [],
   "source": []
  }
 ],
 "metadata": {
  "kernelspec": {
   "display_name": "Python 3",
   "language": "python",
   "name": "python3"
  },
  "language_info": {
   "codemirror_mode": {
    "name": "ipython",
    "version": 3
   },
   "file_extension": ".py",
   "mimetype": "text/x-python",
   "name": "python",
   "nbconvert_exporter": "python",
   "pygments_lexer": "ipython3",
   "version": "3.6.4"
  }
 },
 "nbformat": 4,
 "nbformat_minor": 2
}
